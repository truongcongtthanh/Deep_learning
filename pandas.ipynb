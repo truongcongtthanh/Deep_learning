{
 "cells": [
  {
   "cell_type": "markdown",
   "metadata": {},
   "source": [
    "# PANDAS cơ bản\n",
    "## Nhập liệu"
   ]
  },
  {
   "cell_type": "code",
   "execution_count": 1,
   "metadata": {},
   "outputs": [],
   "source": [
    "import pandas as pd"
   ]
  },
  {
   "cell_type": "code",
   "execution_count": 2,
   "metadata": {},
   "outputs": [
    {
     "data": {
      "text/plain": [
       "sau rieng     10\n",
       "vu sua        11\n",
       "mang cut     lon\n",
       "oi            be\n",
       "dtype: object"
      ]
     },
     "execution_count": 2,
     "metadata": {},
     "output_type": "execute_result"
    }
   ],
   "source": [
    "fruits = pd.Series(data = [10,11,'lon','be'],\n",
    "                                index = ['sau rieng', 'vu sua', 'mang cut', 'oi'])\n",
    "fruits"
   ]
  },
  {
   "cell_type": "markdown",
   "metadata": {},
   "source": [
    "- Ở đây chỉ mục là Cột đầu tiên (Sau rieng, vu sua...)\n",
    "- Còn data show ở cột thứ 2 (10, 11, lon, be..)"
   ]
  },
  {
   "cell_type": "markdown",
   "metadata": {},
   "source": [
    "**Một số thuộc tính của Pandas SERIES**"
   ]
  },
  {
   "cell_type": "code",
   "execution_count": 3,
   "metadata": {},
   "outputs": [
    {
     "name": "stdout",
     "output_type": "stream",
     "text": [
      "Shape:  (4,)\n",
      "kết quả của phép fruits.ndim:  1 \n",
      " Kết quả là: 1 thì là pandas series \n",
      " 2: là dataframe.\n",
      "size:  4\n",
      "vu sua co trong fruits:  True\n"
     ]
    }
   ],
   "source": [
    "print('Shape: ', fruits.shape)\n",
    "print('kết quả của phép fruits.ndim: ',fruits.ndim, '\\n Kết quả là: 1 thì là pandas series \\n 2: là dataframe.')\n",
    "print('size: ',fruits.size)\n",
    "x = 'vu sua' in fruits\n",
    "print('vu sua co trong fruits: ',x)"
   ]
  },
  {
   "cell_type": "markdown",
   "metadata": {},
   "source": [
    "**Truy Cập dữ liệu trong pd SERIES**"
   ]
  },
  {
   "cell_type": "code",
   "execution_count": 4,
   "metadata": {},
   "outputs": [
    {
     "name": "stdout",
     "output_type": "stream",
     "text": [
      "data of sau rieng:  10\n",
      "data of many thing bằng LABEL: \n",
      " vu sua       11\n",
      "mang cut    lon\n",
      "dtype: object\n",
      "data of many thing bằng INDEX: \n",
      " sau rieng    10\n",
      "vu sua       11\n",
      "dtype: object\n",
      "Dùng .loc và .iloc để truy cập theo LABEL và INDEX: \n",
      " mang cut    lon\n",
      "oi           be\n",
      "dtype: object \n",
      " mang cut    lon\n",
      "oi           be\n",
      "dtype: object\n"
     ]
    }
   ],
   "source": [
    "print('data of sau rieng: ', fruits['sau rieng'])\n",
    "print('data of many thing bằng LABEL: \\n', fruits[['vu sua','mang cut']])\n",
    "print('data of many thing bằng INDEX: \\n', fruits[[0,1]])\n",
    "print('Dùng .loc và .iloc để truy cập theo LABEL và INDEX: \\n',fruits.loc[['mang cut','oi']], '\\n', fruits.iloc[[2,3]])"
   ]
  },
  {
   "cell_type": "markdown",
   "metadata": {},
   "source": [
    "**Lấy data ra và xoá data đã lấy bằng cách dùng .drop()**"
   ]
  },
  {
   "cell_type": "code",
   "execution_count": 5,
   "metadata": {},
   "outputs": [
    {
     "data": {
      "text/plain": [
       "sau rieng     10\n",
       "vu sua        11\n",
       "mang cut     lon\n",
       "dtype: object"
      ]
     },
     "execution_count": 5,
     "metadata": {},
     "output_type": "execute_result"
    }
   ],
   "source": [
    "fruits.drop('oi',inplace = True)\n",
    "fruits"
   ]
  },
  {
   "cell_type": "markdown",
   "metadata": {},
   "source": [
    "**Tính toán số học trên pandas SERIES như là numpy**"
   ]
  },
  {
   "cell_type": "code",
   "execution_count": 6,
   "metadata": {},
   "outputs": [
    {
     "name": "stdout",
     "output_type": "stream",
     "text": [
      "Original grocery list of fruits:\n",
      "  apples     10\n",
      "oranges     6\n",
      "bananas     3\n",
      "dtype: int64\n",
      "--------------------\n",
      "*2 cho fruits: \n",
      " apples     20\n",
      "oranges    12\n",
      "bananas     6\n",
      "dtype: int64\n"
     ]
    }
   ],
   "source": [
    "# import pandas\n",
    "import pandas as pd\n",
    "# tạo 1 Series mới\n",
    "fruits= pd.Series(data = [10, 6, 3,], \n",
    "                  index = ['apples', 'oranges', 'bananas'])\n",
    "print('Original grocery list of fruits:\\n ', fruits)\n",
    "print('--'*10)\n",
    "print('*2 cho fruits: \\n', fruits*2)"
   ]
  },
  {
   "cell_type": "markdown",
   "metadata": {},
   "source": [
    "**Có thể sử dụng cả phép luỹ thừa ..**"
   ]
  },
  {
   "cell_type": "code",
   "execution_count": 7,
   "metadata": {},
   "outputs": [
    {
     "name": "stdout",
     "output_type": "stream",
     "text": [
      "phép luỹ thừa cho fruits: \n",
      " apples     100\n",
      "oranges     36\n",
      "bananas      9\n",
      "dtype: int64\n"
     ]
    }
   ],
   "source": [
    "import numpy as np\n",
    "print('phép luỹ thừa cho fruits: \\n', np.power(fruits,2))"
   ]
  },
  {
   "cell_type": "markdown",
   "metadata": {},
   "source": [
    "## DATA FRAME trong PANDAS"
   ]
  },
  {
   "cell_type": "markdown",
   "metadata": {},
   "source": [
    "### 1. Tạo thủ công"
   ]
  },
  {
   "cell_type": "code",
   "execution_count": 8,
   "metadata": {},
   "outputs": [
    {
     "data": {
      "text/html": [
       "<div>\n",
       "<style scoped>\n",
       "    .dataframe tbody tr th:only-of-type {\n",
       "        vertical-align: middle;\n",
       "    }\n",
       "\n",
       "    .dataframe tbody tr th {\n",
       "        vertical-align: top;\n",
       "    }\n",
       "\n",
       "    .dataframe thead th {\n",
       "        text-align: right;\n",
       "    }\n",
       "</style>\n",
       "<table border=\"1\" class=\"dataframe\">\n",
       "  <thead>\n",
       "    <tr style=\"text-align: right;\">\n",
       "      <th></th>\n",
       "      <th>thanh</th>\n",
       "      <th>vinh</th>\n",
       "    </tr>\n",
       "  </thead>\n",
       "  <tbody>\n",
       "    <tr>\n",
       "      <th>can nang</th>\n",
       "      <td>59.0</td>\n",
       "      <td>45</td>\n",
       "    </tr>\n",
       "    <tr>\n",
       "      <th>chieu cao</th>\n",
       "      <td>171.0</td>\n",
       "      <td>168</td>\n",
       "    </tr>\n",
       "    <tr>\n",
       "      <th>co benh</th>\n",
       "      <td>NaN</td>\n",
       "      <td>1</td>\n",
       "    </tr>\n",
       "    <tr>\n",
       "      <th>tuoi</th>\n",
       "      <td>21.0</td>\n",
       "      <td>19</td>\n",
       "    </tr>\n",
       "  </tbody>\n",
       "</table>\n",
       "</div>"
      ],
      "text/plain": [
       "           thanh  vinh\n",
       "can nang    59.0    45\n",
       "chieu cao  171.0   168\n",
       "co benh      NaN     1\n",
       "tuoi        21.0    19"
      ]
     },
     "execution_count": 8,
     "metadata": {},
     "output_type": "execute_result"
    }
   ],
   "source": [
    "import pandas as pd\n",
    "item = {'thanh': pd.Series(data =[21,171,59],\n",
    "                          index = ['tuoi', 'chieu cao', 'can nang']),\n",
    "           'vinh': pd.Series(data = [19,168,45,1],\n",
    "                            index = ['tuoi','chieu cao','can nang','co benh'])}\n",
    "table_item = pd.DataFrame(item)\n",
    "table_item"
   ]
  },
  {
   "cell_type": "markdown",
   "metadata": {},
   "source": [
    "**Bảng không có index** -> Tự thêm index theo chỉ mục bắt đầu từ 0"
   ]
  },
  {
   "cell_type": "code",
   "execution_count": 9,
   "metadata": {},
   "outputs": [
    {
     "data": {
      "text/html": [
       "<div>\n",
       "<style scoped>\n",
       "    .dataframe tbody tr th:only-of-type {\n",
       "        vertical-align: middle;\n",
       "    }\n",
       "\n",
       "    .dataframe tbody tr th {\n",
       "        vertical-align: top;\n",
       "    }\n",
       "\n",
       "    .dataframe thead th {\n",
       "        text-align: right;\n",
       "    }\n",
       "</style>\n",
       "<table border=\"1\" class=\"dataframe\">\n",
       "  <thead>\n",
       "    <tr style=\"text-align: right;\">\n",
       "      <th></th>\n",
       "      <th>thanh</th>\n",
       "      <th>vinh</th>\n",
       "    </tr>\n",
       "  </thead>\n",
       "  <tbody>\n",
       "    <tr>\n",
       "      <th>0</th>\n",
       "      <td>21.0</td>\n",
       "      <td>19</td>\n",
       "    </tr>\n",
       "    <tr>\n",
       "      <th>1</th>\n",
       "      <td>171.0</td>\n",
       "      <td>168</td>\n",
       "    </tr>\n",
       "    <tr>\n",
       "      <th>2</th>\n",
       "      <td>59.0</td>\n",
       "      <td>45</td>\n",
       "    </tr>\n",
       "    <tr>\n",
       "      <th>3</th>\n",
       "      <td>NaN</td>\n",
       "      <td>1</td>\n",
       "    </tr>\n",
       "  </tbody>\n",
       "</table>\n",
       "</div>"
      ],
      "text/plain": [
       "   thanh  vinh\n",
       "0   21.0    19\n",
       "1  171.0   168\n",
       "2   59.0    45\n",
       "3    NaN     1"
      ]
     },
     "execution_count": 9,
     "metadata": {},
     "output_type": "execute_result"
    }
   ],
   "source": [
    "import pandas as pd\n",
    "item1 = {'thanh': pd.Series(data =[21,171,59]),\n",
    "           'vinh': pd.Series(data = [19,168,45,1])}\n",
    "table_item1 = pd.DataFrame(item1)\n",
    "table_item1"
   ]
  },
  {
   "cell_type": "markdown",
   "metadata": {},
   "source": [
    "### Lấy thông tin"
   ]
  },
  {
   "cell_type": "code",
   "execution_count": 10,
   "metadata": {},
   "outputs": [
    {
     "name": "stdout",
     "output_type": "stream",
     "text": [
      "Giá trị phép .ndim là:  2 \n",
      " trả về 2 tức là DATA FRAME\n",
      "Shape:  (4, 2)\n",
      "size:  8\n",
      "Dữ liệu: \n",
      " [[ 59.  45.]\n",
      " [171. 168.]\n",
      " [ nan   1.]\n",
      " [ 21.  19.]]\n",
      "Chỉ mục: \n",
      " Index(['can nang', 'chieu cao', 'co benh', 'tuoi'], dtype='object')\n",
      "Dữ liệu cột: \n",
      " Index(['thanh', 'vinh'], dtype='object')\n"
     ]
    }
   ],
   "source": [
    "print('Giá trị phép .ndim là: ',table_item.ndim,'\\n','trả về 2 tức là DATA FRAME')\n",
    "print('Shape: ',table_item.shape)\n",
    "print('size: ',table_item.size)\n",
    "print('Dữ liệu: \\n',table_item.values)\n",
    "print('Chỉ mục: \\n',table_item.index)\n",
    "print('Dữ liệu cột: \\n',table_item.columns)\n"
   ]
  },
  {
   "cell_type": "markdown",
   "metadata": {},
   "source": [
    "### Ngoài ra có thể tạo DATAFRAME bằng LIST (những bảng trả về k được chứa giá trị NaN -Tức là phải khớp các giá trị)"
   ]
  },
  {
   "cell_type": "code",
   "execution_count": 11,
   "metadata": {},
   "outputs": [
    {
     "data": {
      "text/html": [
       "<div>\n",
       "<style scoped>\n",
       "    .dataframe tbody tr th:only-of-type {\n",
       "        vertical-align: middle;\n",
       "    }\n",
       "\n",
       "    .dataframe tbody tr th {\n",
       "        vertical-align: top;\n",
       "    }\n",
       "\n",
       "    .dataframe thead th {\n",
       "        text-align: right;\n",
       "    }\n",
       "</style>\n",
       "<table border=\"1\" class=\"dataframe\">\n",
       "  <thead>\n",
       "    <tr style=\"text-align: right;\">\n",
       "      <th></th>\n",
       "      <th>Intetger</th>\n",
       "      <th>Float</th>\n",
       "    </tr>\n",
       "  </thead>\n",
       "  <tbody>\n",
       "    <tr>\n",
       "      <th>0</th>\n",
       "      <td>1</td>\n",
       "      <td>1.1</td>\n",
       "    </tr>\n",
       "    <tr>\n",
       "      <th>1</th>\n",
       "      <td>2</td>\n",
       "      <td>2.2</td>\n",
       "    </tr>\n",
       "    <tr>\n",
       "      <th>2</th>\n",
       "      <td>3</td>\n",
       "      <td>3.3</td>\n",
       "    </tr>\n",
       "  </tbody>\n",
       "</table>\n",
       "</div>"
      ],
      "text/plain": [
       "   Intetger  Float\n",
       "0         1    1.1\n",
       "1         2    2.2\n",
       "2         3    3.3"
      ]
     },
     "execution_count": 11,
     "metadata": {},
     "output_type": "execute_result"
    }
   ],
   "source": [
    "import pandas as pd\n",
    "data = {'Intetger':[1,2,3],\n",
    "       'Float':[1.1,2.2,3.3]}\n",
    "df = pd.DataFrame(data)\n",
    "df"
   ]
  },
  {
   "cell_type": "markdown",
   "metadata": {},
   "source": [
    "### Dùng dictionary"
   ]
  },
  {
   "cell_type": "code",
   "execution_count": 12,
   "metadata": {},
   "outputs": [
    {
     "data": {
      "text/html": [
       "<div>\n",
       "<style scoped>\n",
       "    .dataframe tbody tr th:only-of-type {\n",
       "        vertical-align: middle;\n",
       "    }\n",
       "\n",
       "    .dataframe tbody tr th {\n",
       "        vertical-align: top;\n",
       "    }\n",
       "\n",
       "    .dataframe thead th {\n",
       "        text-align: right;\n",
       "    }\n",
       "</style>\n",
       "<table border=\"1\" class=\"dataframe\">\n",
       "  <thead>\n",
       "    <tr style=\"text-align: right;\">\n",
       "      <th></th>\n",
       "      <th>bike</th>\n",
       "      <th>pants</th>\n",
       "      <th>watches</th>\n",
       "    </tr>\n",
       "  </thead>\n",
       "  <tbody>\n",
       "    <tr>\n",
       "      <th>0</th>\n",
       "      <td>1</td>\n",
       "      <td>3.0</td>\n",
       "      <td>NaN</td>\n",
       "    </tr>\n",
       "    <tr>\n",
       "      <th>1</th>\n",
       "      <td>3</td>\n",
       "      <td>NaN</td>\n",
       "      <td>5.0</td>\n",
       "    </tr>\n",
       "  </tbody>\n",
       "</table>\n",
       "</div>"
      ],
      "text/plain": [
       "   bike  pants  watches\n",
       "0     1    3.0      NaN\n",
       "1     3    NaN      5.0"
      ]
     },
     "execution_count": 12,
     "metadata": {},
     "output_type": "execute_result"
    }
   ],
   "source": [
    "import pandas as pd\n",
    "items = [{'bike':1,'pants':3},\n",
    "        {'bike':3, 'watches':5}]\n",
    "store_items = pd.DataFrame(items)\n",
    "store_items"
   ]
  },
  {
   "cell_type": "markdown",
   "metadata": {},
   "source": [
    "**Cách làm trên dùng chỉ mục index 1 cách tự động, Muốn can thiệp vào index ta làm như sau**"
   ]
  },
  {
   "cell_type": "code",
   "execution_count": 13,
   "metadata": {},
   "outputs": [
    {
     "data": {
      "text/html": [
       "<div>\n",
       "<style scoped>\n",
       "    .dataframe tbody tr th:only-of-type {\n",
       "        vertical-align: middle;\n",
       "    }\n",
       "\n",
       "    .dataframe tbody tr th {\n",
       "        vertical-align: top;\n",
       "    }\n",
       "\n",
       "    .dataframe thead th {\n",
       "        text-align: right;\n",
       "    }\n",
       "</style>\n",
       "<table border=\"1\" class=\"dataframe\">\n",
       "  <thead>\n",
       "    <tr style=\"text-align: right;\">\n",
       "      <th></th>\n",
       "      <th>bike</th>\n",
       "      <th>pants</th>\n",
       "      <th>watches</th>\n",
       "    </tr>\n",
       "  </thead>\n",
       "  <tbody>\n",
       "    <tr>\n",
       "      <th>store 1</th>\n",
       "      <td>1</td>\n",
       "      <td>3.0</td>\n",
       "      <td>NaN</td>\n",
       "    </tr>\n",
       "    <tr>\n",
       "      <th>store 2</th>\n",
       "      <td>3</td>\n",
       "      <td>NaN</td>\n",
       "      <td>5.0</td>\n",
       "    </tr>\n",
       "  </tbody>\n",
       "</table>\n",
       "</div>"
      ],
      "text/plain": [
       "         bike  pants  watches\n",
       "store 1     1    3.0      NaN\n",
       "store 2     3    NaN      5.0"
      ]
     },
     "execution_count": 13,
     "metadata": {},
     "output_type": "execute_result"
    }
   ],
   "source": [
    "store = pd.DataFrame(items, index = ['store 1', 'store 2'])\n",
    "store"
   ]
  },
  {
   "cell_type": "markdown",
   "metadata": {},
   "source": [
    "### Truy xuất phần tử trong DF, lấy theo hàng tao phải dùng .loc với LABEL hoặc .iloc với INDEX"
   ]
  },
  {
   "cell_type": "code",
   "execution_count": 14,
   "metadata": {},
   "outputs": [
    {
     "name": "stdout",
     "output_type": "stream",
     "text": [
      "cột BIKE: \n",
      "          bike\n",
      "store 1     1\n",
      "store 2     3\n",
      "cột BIKE and PANTS: \n",
      "          bike  pants\n",
      "store 1     1    3.0\n",
      "store 2     3    NaN\n",
      "hàng STORE 1 với .iloc: \n",
      "          bike  pants  watches\n",
      "store 1     1    3.0      NaN\n",
      "hàng STORE 2 với .loc: \n",
      "          bike  pants  watches\n",
      "store 2     3    NaN      5.0\n",
      "Data của 1 ô: \n",
      " 3\n",
      "Dùng .iloc: \n",
      " 3.0\n"
     ]
    }
   ],
   "source": [
    "print('cột BIKE: \\n',store[['bike']])\n",
    "print('cột BIKE and PANTS: \\n',store[['bike','pants']])\n",
    "print('hàng STORE 1 với .iloc: \\n',store.iloc[[0]])\n",
    "print('hàng STORE 2 với .loc: \\n', store.loc[['store 2']])\n",
    "print('Data của 1 ô: \\n', store['bike']['store 2'])\n",
    "print('Dùng .iloc: \\n',store.iloc[0][1])\n"
   ]
  },
  {
   "cell_type": "markdown",
   "metadata": {},
   "source": [
    "**Thêm bớt cột** dùng LIST phải chú ý có cả 2 giá trị ở store 1 và 2 nếu không sẽ bị lỗi"
   ]
  },
  {
   "cell_type": "code",
   "execution_count": 15,
   "metadata": {},
   "outputs": [
    {
     "data": {
      "text/html": [
       "<div>\n",
       "<style scoped>\n",
       "    .dataframe tbody tr th:only-of-type {\n",
       "        vertical-align: middle;\n",
       "    }\n",
       "\n",
       "    .dataframe tbody tr th {\n",
       "        vertical-align: top;\n",
       "    }\n",
       "\n",
       "    .dataframe thead th {\n",
       "        text-align: right;\n",
       "    }\n",
       "</style>\n",
       "<table border=\"1\" class=\"dataframe\">\n",
       "  <thead>\n",
       "    <tr style=\"text-align: right;\">\n",
       "      <th></th>\n",
       "      <th>bike</th>\n",
       "      <th>pants</th>\n",
       "      <th>watches</th>\n",
       "      <th>shirt</th>\n",
       "    </tr>\n",
       "  </thead>\n",
       "  <tbody>\n",
       "    <tr>\n",
       "      <th>store 1</th>\n",
       "      <td>1</td>\n",
       "      <td>3.0</td>\n",
       "      <td>NaN</td>\n",
       "      <td>15</td>\n",
       "    </tr>\n",
       "    <tr>\n",
       "      <th>store 2</th>\n",
       "      <td>3</td>\n",
       "      <td>NaN</td>\n",
       "      <td>5.0</td>\n",
       "      <td>5</td>\n",
       "    </tr>\n",
       "  </tbody>\n",
       "</table>\n",
       "</div>"
      ],
      "text/plain": [
       "         bike  pants  watches  shirt\n",
       "store 1     1    3.0      NaN     15\n",
       "store 2     3    NaN      5.0      5"
      ]
     },
     "execution_count": 15,
     "metadata": {},
     "output_type": "execute_result"
    }
   ],
   "source": [
    "store['shirt'] = [15,5]\n",
    "store"
   ]
  },
  {
   "cell_type": "markdown",
   "metadata": {},
   "source": [
    "**Thêm hàng dữ liệu** Dùng .append"
   ]
  },
  {
   "cell_type": "code",
   "execution_count": 16,
   "metadata": {},
   "outputs": [
    {
     "data": {
      "text/html": [
       "<div>\n",
       "<style scoped>\n",
       "    .dataframe tbody tr th:only-of-type {\n",
       "        vertical-align: middle;\n",
       "    }\n",
       "\n",
       "    .dataframe tbody tr th {\n",
       "        vertical-align: top;\n",
       "    }\n",
       "\n",
       "    .dataframe thead th {\n",
       "        text-align: right;\n",
       "    }\n",
       "</style>\n",
       "<table border=\"1\" class=\"dataframe\">\n",
       "  <thead>\n",
       "    <tr style=\"text-align: right;\">\n",
       "      <th></th>\n",
       "      <th>bike</th>\n",
       "      <th>pants</th>\n",
       "      <th>watches</th>\n",
       "      <th>shirt</th>\n",
       "      <th>glasses</th>\n",
       "    </tr>\n",
       "  </thead>\n",
       "  <tbody>\n",
       "    <tr>\n",
       "      <th>store 1</th>\n",
       "      <td>1</td>\n",
       "      <td>3.0</td>\n",
       "      <td>NaN</td>\n",
       "      <td>15.0</td>\n",
       "      <td>NaN</td>\n",
       "    </tr>\n",
       "    <tr>\n",
       "      <th>store 2</th>\n",
       "      <td>3</td>\n",
       "      <td>NaN</td>\n",
       "      <td>5.0</td>\n",
       "      <td>5.0</td>\n",
       "      <td>NaN</td>\n",
       "    </tr>\n",
       "    <tr>\n",
       "      <th>store 3</th>\n",
       "      <td>20</td>\n",
       "      <td>30.0</td>\n",
       "      <td>35.0</td>\n",
       "      <td>NaN</td>\n",
       "      <td>4.0</td>\n",
       "    </tr>\n",
       "  </tbody>\n",
       "</table>\n",
       "</div>"
      ],
      "text/plain": [
       "         bike  pants  watches  shirt  glasses\n",
       "store 1     1    3.0      NaN   15.0      NaN\n",
       "store 2     3    NaN      5.0    5.0      NaN\n",
       "store 3    20   30.0     35.0    NaN      4.0"
      ]
     },
     "execution_count": 16,
     "metadata": {},
     "output_type": "execute_result"
    }
   ],
   "source": [
    "new_items = [{'bike': 20, 'pants': 30, 'watches': 35, 'glasses': 4}]\n",
    "new_store = pd.DataFrame(new_items, index = ['store 3'])\n",
    "new_store\n",
    "store_item3 = store.append(new_store, sort = False)\n",
    "store_item3"
   ]
  },
  {
   "cell_type": "markdown",
   "metadata": {},
   "source": [
    "**Thêm Cột Dữ liệu** Dùng .insert"
   ]
  },
  {
   "cell_type": "code",
   "execution_count": 17,
   "metadata": {},
   "outputs": [
    {
     "data": {
      "text/html": [
       "<div>\n",
       "<style scoped>\n",
       "    .dataframe tbody tr th:only-of-type {\n",
       "        vertical-align: middle;\n",
       "    }\n",
       "\n",
       "    .dataframe tbody tr th {\n",
       "        vertical-align: top;\n",
       "    }\n",
       "\n",
       "    .dataframe thead th {\n",
       "        text-align: right;\n",
       "    }\n",
       "</style>\n",
       "<table border=\"1\" class=\"dataframe\">\n",
       "  <thead>\n",
       "    <tr style=\"text-align: right;\">\n",
       "      <th></th>\n",
       "      <th>bike</th>\n",
       "      <th>pants</th>\n",
       "      <th>watches</th>\n",
       "      <th>shirt</th>\n",
       "      <th>glasses</th>\n",
       "      <th>shoes</th>\n",
       "    </tr>\n",
       "  </thead>\n",
       "  <tbody>\n",
       "    <tr>\n",
       "      <th>store 1</th>\n",
       "      <td>1</td>\n",
       "      <td>3.0</td>\n",
       "      <td>NaN</td>\n",
       "      <td>15.0</td>\n",
       "      <td>NaN</td>\n",
       "      <td>8</td>\n",
       "    </tr>\n",
       "    <tr>\n",
       "      <th>store 2</th>\n",
       "      <td>3</td>\n",
       "      <td>NaN</td>\n",
       "      <td>5.0</td>\n",
       "      <td>5.0</td>\n",
       "      <td>NaN</td>\n",
       "      <td>5</td>\n",
       "    </tr>\n",
       "    <tr>\n",
       "      <th>store 3</th>\n",
       "      <td>20</td>\n",
       "      <td>30.0</td>\n",
       "      <td>35.0</td>\n",
       "      <td>NaN</td>\n",
       "      <td>4.0</td>\n",
       "      <td>2</td>\n",
       "    </tr>\n",
       "  </tbody>\n",
       "</table>\n",
       "</div>"
      ],
      "text/plain": [
       "         bike  pants  watches  shirt  glasses  shoes\n",
       "store 1     1    3.0      NaN   15.0      NaN      8\n",
       "store 2     3    NaN      5.0    5.0      NaN      5\n",
       "store 3    20   30.0     35.0    NaN      4.0      2"
      ]
     },
     "execution_count": 17,
     "metadata": {},
     "output_type": "execute_result"
    }
   ],
   "source": [
    "store_item3.insert(5,'shoes',[8,5,2])\n",
    "store_item3"
   ]
  },
  {
   "cell_type": "markdown",
   "metadata": {},
   "source": [
    "**Xoá hàng, cột dữ liệu dùng .drop với axis = 0, 1**"
   ]
  },
  {
   "cell_type": "code",
   "execution_count": 19,
   "metadata": {},
   "outputs": [
    {
     "data": {
      "text/html": [
       "<div>\n",
       "<style scoped>\n",
       "    .dataframe tbody tr th:only-of-type {\n",
       "        vertical-align: middle;\n",
       "    }\n",
       "\n",
       "    .dataframe tbody tr th {\n",
       "        vertical-align: top;\n",
       "    }\n",
       "\n",
       "    .dataframe thead th {\n",
       "        text-align: right;\n",
       "    }\n",
       "</style>\n",
       "<table border=\"1\" class=\"dataframe\">\n",
       "  <thead>\n",
       "    <tr style=\"text-align: right;\">\n",
       "      <th></th>\n",
       "      <th>bike</th>\n",
       "      <th>pants</th>\n",
       "      <th>watches</th>\n",
       "      <th>shirt</th>\n",
       "    </tr>\n",
       "  </thead>\n",
       "  <tbody>\n",
       "    <tr>\n",
       "      <th>store 1</th>\n",
       "      <td>1</td>\n",
       "      <td>3.0</td>\n",
       "      <td>NaN</td>\n",
       "      <td>15.0</td>\n",
       "    </tr>\n",
       "    <tr>\n",
       "      <th>store 2</th>\n",
       "      <td>3</td>\n",
       "      <td>NaN</td>\n",
       "      <td>5.0</td>\n",
       "      <td>5.0</td>\n",
       "    </tr>\n",
       "    <tr>\n",
       "      <th>store 3</th>\n",
       "      <td>20</td>\n",
       "      <td>30.0</td>\n",
       "      <td>35.0</td>\n",
       "      <td>NaN</td>\n",
       "    </tr>\n",
       "  </tbody>\n",
       "</table>\n",
       "</div>"
      ],
      "text/plain": [
       "         bike  pants  watches  shirt\n",
       "store 1     1    3.0      NaN   15.0\n",
       "store 2     3    NaN      5.0    5.0\n",
       "store 3    20   30.0     35.0    NaN"
      ]
     },
     "execution_count": 19,
     "metadata": {},
     "output_type": "execute_result"
    }
   ],
   "source": [
    "store_item3 = store_item3.drop(['glasses','shoes'], axis = 1)\n",
    "store_item3"
   ]
  },
  {
   "cell_type": "code",
   "execution_count": 20,
   "metadata": {},
   "outputs": [
    {
     "data": {
      "text/html": [
       "<div>\n",
       "<style scoped>\n",
       "    .dataframe tbody tr th:only-of-type {\n",
       "        vertical-align: middle;\n",
       "    }\n",
       "\n",
       "    .dataframe tbody tr th {\n",
       "        vertical-align: top;\n",
       "    }\n",
       "\n",
       "    .dataframe thead th {\n",
       "        text-align: right;\n",
       "    }\n",
       "</style>\n",
       "<table border=\"1\" class=\"dataframe\">\n",
       "  <thead>\n",
       "    <tr style=\"text-align: right;\">\n",
       "      <th></th>\n",
       "      <th>bike</th>\n",
       "      <th>pants</th>\n",
       "      <th>watches</th>\n",
       "      <th>shirt</th>\n",
       "    </tr>\n",
       "  </thead>\n",
       "  <tbody>\n",
       "    <tr>\n",
       "      <th>store 1</th>\n",
       "      <td>1</td>\n",
       "      <td>3.0</td>\n",
       "      <td>NaN</td>\n",
       "      <td>15.0</td>\n",
       "    </tr>\n",
       "    <tr>\n",
       "      <th>store 2</th>\n",
       "      <td>3</td>\n",
       "      <td>NaN</td>\n",
       "      <td>5.0</td>\n",
       "      <td>5.0</td>\n",
       "    </tr>\n",
       "  </tbody>\n",
       "</table>\n",
       "</div>"
      ],
      "text/plain": [
       "         bike  pants  watches  shirt\n",
       "store 1     1    3.0      NaN   15.0\n",
       "store 2     3    NaN      5.0    5.0"
      ]
     },
     "execution_count": 20,
     "metadata": {},
     "output_type": "execute_result"
    }
   ],
   "source": [
    "store_item3 = store_item3.drop('store 3', axis = 0)\n",
    "store_item3"
   ]
  },
  {
   "cell_type": "markdown",
   "metadata": {},
   "source": [
    "### Xử lý NaN"
   ]
  },
  {
   "cell_type": "code",
   "execution_count": 22,
   "metadata": {},
   "outputs": [
    {
     "data": {
      "text/html": [
       "<div>\n",
       "<style scoped>\n",
       "    .dataframe tbody tr th:only-of-type {\n",
       "        vertical-align: middle;\n",
       "    }\n",
       "\n",
       "    .dataframe tbody tr th {\n",
       "        vertical-align: top;\n",
       "    }\n",
       "\n",
       "    .dataframe thead th {\n",
       "        text-align: right;\n",
       "    }\n",
       "</style>\n",
       "<table border=\"1\" class=\"dataframe\">\n",
       "  <thead>\n",
       "    <tr style=\"text-align: right;\">\n",
       "      <th></th>\n",
       "      <th>bikes</th>\n",
       "      <th>pants</th>\n",
       "      <th>watches</th>\n",
       "      <th>shirts</th>\n",
       "      <th>shoes</th>\n",
       "      <th>suits</th>\n",
       "      <th>glasses</th>\n",
       "    </tr>\n",
       "  </thead>\n",
       "  <tbody>\n",
       "    <tr>\n",
       "      <th>store 1</th>\n",
       "      <td>20</td>\n",
       "      <td>30</td>\n",
       "      <td>35</td>\n",
       "      <td>15.0</td>\n",
       "      <td>8</td>\n",
       "      <td>45.0</td>\n",
       "      <td>NaN</td>\n",
       "    </tr>\n",
       "    <tr>\n",
       "      <th>store 2</th>\n",
       "      <td>15</td>\n",
       "      <td>5</td>\n",
       "      <td>10</td>\n",
       "      <td>2.0</td>\n",
       "      <td>5</td>\n",
       "      <td>7.0</td>\n",
       "      <td>50.0</td>\n",
       "    </tr>\n",
       "    <tr>\n",
       "      <th>store 3</th>\n",
       "      <td>20</td>\n",
       "      <td>30</td>\n",
       "      <td>35</td>\n",
       "      <td>NaN</td>\n",
       "      <td>10</td>\n",
       "      <td>NaN</td>\n",
       "      <td>4.0</td>\n",
       "    </tr>\n",
       "  </tbody>\n",
       "</table>\n",
       "</div>"
      ],
      "text/plain": [
       "         bikes  pants  watches  shirts  shoes  suits  glasses\n",
       "store 1     20     30       35    15.0      8   45.0      NaN\n",
       "store 2     15      5       10     2.0      5    7.0     50.0\n",
       "store 3     20     30       35     NaN     10    NaN      4.0"
      ]
     },
     "execution_count": 22,
     "metadata": {},
     "output_type": "execute_result"
    }
   ],
   "source": [
    "import pandas as pd\n",
    "# We create a list of Python dictionaries\n",
    "items = [{'bikes': 20, 'pants': 30, 'watches': 35, \n",
    "          'shirts': 15, 'shoes':8, 'suits':45},\n",
    "         {'watches': 10, 'glasses': 50, 'bikes': 15, \n",
    "          'pants':5, 'shirts': 2, 'shoes':5, 'suits':7},\n",
    "         {'bikes': 20, 'pants': 30, 'watches': 35, \n",
    "          'glasses': 4, 'shoes':10}]\n",
    "# We create a DataFrame  and provide the row index\n",
    "store_items = pd.DataFrame(items, index = ['store 1', 'store 2', 'store 3'])\n",
    "# We display the DataFrame\n",
    "store_items"
   ]
  },
  {
   "cell_type": "markdown",
   "metadata": {},
   "source": [
    "**Xem có bao nhiêu giá trị NaN**"
   ]
  },
  {
   "cell_type": "code",
   "execution_count": 26,
   "metadata": {},
   "outputs": [
    {
     "name": "stdout",
     "output_type": "stream",
     "text": [
      "giá trị là NaN của từng cột dữ liệu: \n",
      " bikes      0\n",
      "pants      0\n",
      "watches    0\n",
      "shirts     1\n",
      "shoes      0\n",
      "suits      1\n",
      "glasses    1\n",
      "dtype: int64\n",
      "Tổng các giá trị NaN: \n",
      " 3\n"
     ]
    }
   ],
   "source": [
    "desc = store_items.isnull().sum()\n",
    "print('giá trị là NaN của từng cột dữ liệu: \\n',desc)\n",
    "print('Tổng các giá trị NaN: \\n',desc.sum())"
   ]
  },
  {
   "cell_type": "code",
   "execution_count": 27,
   "metadata": {},
   "outputs": [
    {
     "name": "stdout",
     "output_type": "stream",
     "text": [
      "Kết quả trả về sau khi đã xử lý NaN: \n",
      "          bikes  pants  watches  shirts  shoes  suits  glasses\n",
      "store 1     20     30       35    15.0      8   45.0      0.0\n",
      "store 2     15      5       10     2.0      5    7.0     50.0\n",
      "store 3     20     30       35     0.0     10    0.0      4.0\n"
     ]
    }
   ],
   "source": [
    "store_items = store_items.fillna(0)\n",
    "print('Kết quả trả về sau khi đã xử lý NaN: \\n',store_items)"
   ]
  },
  {
   "cell_type": "markdown",
   "metadata": {},
   "source": [
    "## Load File .csv lên"
   ]
  },
  {
   "cell_type": "code",
   "execution_count": 29,
   "metadata": {},
   "outputs": [
    {
     "name": "stdout",
     "output_type": "stream",
     "text": [
      "type:  <class 'pandas.core.frame.DataFrame'>\n",
      "shape:  (253, 7)\n"
     ]
    },
    {
     "data": {
      "text/html": [
       "<div>\n",
       "<style scoped>\n",
       "    .dataframe tbody tr th:only-of-type {\n",
       "        vertical-align: middle;\n",
       "    }\n",
       "\n",
       "    .dataframe tbody tr th {\n",
       "        vertical-align: top;\n",
       "    }\n",
       "\n",
       "    .dataframe thead th {\n",
       "        text-align: right;\n",
       "    }\n",
       "</style>\n",
       "<table border=\"1\" class=\"dataframe\">\n",
       "  <thead>\n",
       "    <tr style=\"text-align: right;\">\n",
       "      <th></th>\n",
       "      <th>Date</th>\n",
       "      <th>Open</th>\n",
       "      <th>High</th>\n",
       "      <th>Low</th>\n",
       "      <th>Close</th>\n",
       "      <th>Adj Close</th>\n",
       "      <th>Volume</th>\n",
       "    </tr>\n",
       "  </thead>\n",
       "  <tbody>\n",
       "    <tr>\n",
       "      <th>0</th>\n",
       "      <td>2020-02-25</td>\n",
       "      <td>1433.000000</td>\n",
       "      <td>1438.140015</td>\n",
       "      <td>1382.400024</td>\n",
       "      <td>1388.449951</td>\n",
       "      <td>1388.449951</td>\n",
       "      <td>2478300</td>\n",
       "    </tr>\n",
       "    <tr>\n",
       "      <th>1</th>\n",
       "      <td>2020-02-26</td>\n",
       "      <td>1396.140015</td>\n",
       "      <td>1415.699951</td>\n",
       "      <td>1379.000000</td>\n",
       "      <td>1393.180054</td>\n",
       "      <td>1393.180054</td>\n",
       "      <td>2202400</td>\n",
       "    </tr>\n",
       "    <tr>\n",
       "      <th>2</th>\n",
       "      <td>2020-02-27</td>\n",
       "      <td>1362.060059</td>\n",
       "      <td>1371.703979</td>\n",
       "      <td>1317.170044</td>\n",
       "      <td>1318.089966</td>\n",
       "      <td>1318.089966</td>\n",
       "      <td>2978300</td>\n",
       "    </tr>\n",
       "    <tr>\n",
       "      <th>3</th>\n",
       "      <td>2020-02-28</td>\n",
       "      <td>1277.500000</td>\n",
       "      <td>1341.140015</td>\n",
       "      <td>1271.000000</td>\n",
       "      <td>1339.329956</td>\n",
       "      <td>1339.329956</td>\n",
       "      <td>3789100</td>\n",
       "    </tr>\n",
       "    <tr>\n",
       "      <th>4</th>\n",
       "      <td>2020-03-02</td>\n",
       "      <td>1351.609985</td>\n",
       "      <td>1390.869995</td>\n",
       "      <td>1326.814941</td>\n",
       "      <td>1389.109985</td>\n",
       "      <td>1389.109985</td>\n",
       "      <td>2431500</td>\n",
       "    </tr>\n",
       "    <tr>\n",
       "      <th>...</th>\n",
       "      <td>...</td>\n",
       "      <td>...</td>\n",
       "      <td>...</td>\n",
       "      <td>...</td>\n",
       "      <td>...</td>\n",
       "      <td>...</td>\n",
       "      <td>...</td>\n",
       "    </tr>\n",
       "    <tr>\n",
       "      <th>248</th>\n",
       "      <td>2021-02-18</td>\n",
       "      <td>2110.389893</td>\n",
       "      <td>2132.735107</td>\n",
       "      <td>2103.709961</td>\n",
       "      <td>2117.199951</td>\n",
       "      <td>2117.199951</td>\n",
       "      <td>1121600</td>\n",
       "    </tr>\n",
       "    <tr>\n",
       "      <th>249</th>\n",
       "      <td>2021-02-19</td>\n",
       "      <td>2119.270020</td>\n",
       "      <td>2130.530029</td>\n",
       "      <td>2097.409912</td>\n",
       "      <td>2101.139893</td>\n",
       "      <td>2101.139893</td>\n",
       "      <td>1457400</td>\n",
       "    </tr>\n",
       "    <tr>\n",
       "      <th>250</th>\n",
       "      <td>2021-02-22</td>\n",
       "      <td>2067.000000</td>\n",
       "      <td>2091.419922</td>\n",
       "      <td>2062.139893</td>\n",
       "      <td>2064.879883</td>\n",
       "      <td>2064.879883</td>\n",
       "      <td>1366200</td>\n",
       "    </tr>\n",
       "    <tr>\n",
       "      <th>251</th>\n",
       "      <td>2021-02-23</td>\n",
       "      <td>2025.010010</td>\n",
       "      <td>2082.010010</td>\n",
       "      <td>2002.020020</td>\n",
       "      <td>2070.860107</td>\n",
       "      <td>2070.860107</td>\n",
       "      <td>1666500</td>\n",
       "    </tr>\n",
       "    <tr>\n",
       "      <th>252</th>\n",
       "      <td>2021-02-24</td>\n",
       "      <td>2041.829956</td>\n",
       "      <td>2100.780029</td>\n",
       "      <td>2038.130005</td>\n",
       "      <td>2095.169922</td>\n",
       "      <td>2095.169922</td>\n",
       "      <td>1247400</td>\n",
       "    </tr>\n",
       "  </tbody>\n",
       "</table>\n",
       "<p>253 rows × 7 columns</p>\n",
       "</div>"
      ],
      "text/plain": [
       "           Date         Open         High          Low        Close  \\\n",
       "0    2020-02-25  1433.000000  1438.140015  1382.400024  1388.449951   \n",
       "1    2020-02-26  1396.140015  1415.699951  1379.000000  1393.180054   \n",
       "2    2020-02-27  1362.060059  1371.703979  1317.170044  1318.089966   \n",
       "3    2020-02-28  1277.500000  1341.140015  1271.000000  1339.329956   \n",
       "4    2020-03-02  1351.609985  1390.869995  1326.814941  1389.109985   \n",
       "..          ...          ...          ...          ...          ...   \n",
       "248  2021-02-18  2110.389893  2132.735107  2103.709961  2117.199951   \n",
       "249  2021-02-19  2119.270020  2130.530029  2097.409912  2101.139893   \n",
       "250  2021-02-22  2067.000000  2091.419922  2062.139893  2064.879883   \n",
       "251  2021-02-23  2025.010010  2082.010010  2002.020020  2070.860107   \n",
       "252  2021-02-24  2041.829956  2100.780029  2038.130005  2095.169922   \n",
       "\n",
       "       Adj Close   Volume  \n",
       "0    1388.449951  2478300  \n",
       "1    1393.180054  2202400  \n",
       "2    1318.089966  2978300  \n",
       "3    1339.329956  3789100  \n",
       "4    1389.109985  2431500  \n",
       "..           ...      ...  \n",
       "248  2117.199951  1121600  \n",
       "249  2101.139893  1457400  \n",
       "250  2064.879883  1366200  \n",
       "251  2070.860107  1666500  \n",
       "252  2095.169922  1247400  \n",
       "\n",
       "[253 rows x 7 columns]"
      ]
     },
     "execution_count": 29,
     "metadata": {},
     "output_type": "execute_result"
    }
   ],
   "source": [
    "import pandas as pd\n",
    "google_stock = pd.read_csv('data/GOOG.csv')\n",
    "print('type: ',type(google_stock))\n",
    "print('shape: ',google_stock.shape)\n",
    "google_stock"
   ]
  },
  {
   "cell_type": "markdown",
   "metadata": {},
   "source": [
    "### In ra 5 (mặc định) hàng đầu và 7 hàng cuối"
   ]
  },
  {
   "cell_type": "code",
   "execution_count": 32,
   "metadata": {},
   "outputs": [
    {
     "data": {
      "text/html": [
       "<div>\n",
       "<style scoped>\n",
       "    .dataframe tbody tr th:only-of-type {\n",
       "        vertical-align: middle;\n",
       "    }\n",
       "\n",
       "    .dataframe tbody tr th {\n",
       "        vertical-align: top;\n",
       "    }\n",
       "\n",
       "    .dataframe thead th {\n",
       "        text-align: right;\n",
       "    }\n",
       "</style>\n",
       "<table border=\"1\" class=\"dataframe\">\n",
       "  <thead>\n",
       "    <tr style=\"text-align: right;\">\n",
       "      <th></th>\n",
       "      <th>Date</th>\n",
       "      <th>Open</th>\n",
       "      <th>High</th>\n",
       "      <th>Low</th>\n",
       "      <th>Close</th>\n",
       "      <th>Adj Close</th>\n",
       "      <th>Volume</th>\n",
       "    </tr>\n",
       "  </thead>\n",
       "  <tbody>\n",
       "    <tr>\n",
       "      <th>0</th>\n",
       "      <td>2020-02-25</td>\n",
       "      <td>1433.000000</td>\n",
       "      <td>1438.140015</td>\n",
       "      <td>1382.400024</td>\n",
       "      <td>1388.449951</td>\n",
       "      <td>1388.449951</td>\n",
       "      <td>2478300</td>\n",
       "    </tr>\n",
       "    <tr>\n",
       "      <th>1</th>\n",
       "      <td>2020-02-26</td>\n",
       "      <td>1396.140015</td>\n",
       "      <td>1415.699951</td>\n",
       "      <td>1379.000000</td>\n",
       "      <td>1393.180054</td>\n",
       "      <td>1393.180054</td>\n",
       "      <td>2202400</td>\n",
       "    </tr>\n",
       "    <tr>\n",
       "      <th>2</th>\n",
       "      <td>2020-02-27</td>\n",
       "      <td>1362.060059</td>\n",
       "      <td>1371.703979</td>\n",
       "      <td>1317.170044</td>\n",
       "      <td>1318.089966</td>\n",
       "      <td>1318.089966</td>\n",
       "      <td>2978300</td>\n",
       "    </tr>\n",
       "    <tr>\n",
       "      <th>3</th>\n",
       "      <td>2020-02-28</td>\n",
       "      <td>1277.500000</td>\n",
       "      <td>1341.140015</td>\n",
       "      <td>1271.000000</td>\n",
       "      <td>1339.329956</td>\n",
       "      <td>1339.329956</td>\n",
       "      <td>3789100</td>\n",
       "    </tr>\n",
       "    <tr>\n",
       "      <th>4</th>\n",
       "      <td>2020-03-02</td>\n",
       "      <td>1351.609985</td>\n",
       "      <td>1390.869995</td>\n",
       "      <td>1326.814941</td>\n",
       "      <td>1389.109985</td>\n",
       "      <td>1389.109985</td>\n",
       "      <td>2431500</td>\n",
       "    </tr>\n",
       "  </tbody>\n",
       "</table>\n",
       "</div>"
      ],
      "text/plain": [
       "         Date         Open         High          Low        Close  \\\n",
       "0  2020-02-25  1433.000000  1438.140015  1382.400024  1388.449951   \n",
       "1  2020-02-26  1396.140015  1415.699951  1379.000000  1393.180054   \n",
       "2  2020-02-27  1362.060059  1371.703979  1317.170044  1318.089966   \n",
       "3  2020-02-28  1277.500000  1341.140015  1271.000000  1339.329956   \n",
       "4  2020-03-02  1351.609985  1390.869995  1326.814941  1389.109985   \n",
       "\n",
       "     Adj Close   Volume  \n",
       "0  1388.449951  2478300  \n",
       "1  1393.180054  2202400  \n",
       "2  1318.089966  2978300  \n",
       "3  1339.329956  3789100  \n",
       "4  1389.109985  2431500  "
      ]
     },
     "execution_count": 32,
     "metadata": {},
     "output_type": "execute_result"
    }
   ],
   "source": [
    "google_stock.head()\n"
   ]
  },
  {
   "cell_type": "code",
   "execution_count": 33,
   "metadata": {},
   "outputs": [
    {
     "data": {
      "text/html": [
       "<div>\n",
       "<style scoped>\n",
       "    .dataframe tbody tr th:only-of-type {\n",
       "        vertical-align: middle;\n",
       "    }\n",
       "\n",
       "    .dataframe tbody tr th {\n",
       "        vertical-align: top;\n",
       "    }\n",
       "\n",
       "    .dataframe thead th {\n",
       "        text-align: right;\n",
       "    }\n",
       "</style>\n",
       "<table border=\"1\" class=\"dataframe\">\n",
       "  <thead>\n",
       "    <tr style=\"text-align: right;\">\n",
       "      <th></th>\n",
       "      <th>Date</th>\n",
       "      <th>Open</th>\n",
       "      <th>High</th>\n",
       "      <th>Low</th>\n",
       "      <th>Close</th>\n",
       "      <th>Adj Close</th>\n",
       "      <th>Volume</th>\n",
       "    </tr>\n",
       "  </thead>\n",
       "  <tbody>\n",
       "    <tr>\n",
       "      <th>246</th>\n",
       "      <td>2021-02-16</td>\n",
       "      <td>2104.360107</td>\n",
       "      <td>2152.679932</td>\n",
       "      <td>2104.360107</td>\n",
       "      <td>2121.899902</td>\n",
       "      <td>2121.899902</td>\n",
       "      <td>1132900</td>\n",
       "    </tr>\n",
       "    <tr>\n",
       "      <th>247</th>\n",
       "      <td>2021-02-17</td>\n",
       "      <td>2100.000000</td>\n",
       "      <td>2133.659912</td>\n",
       "      <td>2098.919922</td>\n",
       "      <td>2128.310059</td>\n",
       "      <td>2128.310059</td>\n",
       "      <td>1070100</td>\n",
       "    </tr>\n",
       "    <tr>\n",
       "      <th>248</th>\n",
       "      <td>2021-02-18</td>\n",
       "      <td>2110.389893</td>\n",
       "      <td>2132.735107</td>\n",
       "      <td>2103.709961</td>\n",
       "      <td>2117.199951</td>\n",
       "      <td>2117.199951</td>\n",
       "      <td>1121600</td>\n",
       "    </tr>\n",
       "    <tr>\n",
       "      <th>249</th>\n",
       "      <td>2021-02-19</td>\n",
       "      <td>2119.270020</td>\n",
       "      <td>2130.530029</td>\n",
       "      <td>2097.409912</td>\n",
       "      <td>2101.139893</td>\n",
       "      <td>2101.139893</td>\n",
       "      <td>1457400</td>\n",
       "    </tr>\n",
       "    <tr>\n",
       "      <th>250</th>\n",
       "      <td>2021-02-22</td>\n",
       "      <td>2067.000000</td>\n",
       "      <td>2091.419922</td>\n",
       "      <td>2062.139893</td>\n",
       "      <td>2064.879883</td>\n",
       "      <td>2064.879883</td>\n",
       "      <td>1366200</td>\n",
       "    </tr>\n",
       "    <tr>\n",
       "      <th>251</th>\n",
       "      <td>2021-02-23</td>\n",
       "      <td>2025.010010</td>\n",
       "      <td>2082.010010</td>\n",
       "      <td>2002.020020</td>\n",
       "      <td>2070.860107</td>\n",
       "      <td>2070.860107</td>\n",
       "      <td>1666500</td>\n",
       "    </tr>\n",
       "    <tr>\n",
       "      <th>252</th>\n",
       "      <td>2021-02-24</td>\n",
       "      <td>2041.829956</td>\n",
       "      <td>2100.780029</td>\n",
       "      <td>2038.130005</td>\n",
       "      <td>2095.169922</td>\n",
       "      <td>2095.169922</td>\n",
       "      <td>1247400</td>\n",
       "    </tr>\n",
       "  </tbody>\n",
       "</table>\n",
       "</div>"
      ],
      "text/plain": [
       "           Date         Open         High          Low        Close  \\\n",
       "246  2021-02-16  2104.360107  2152.679932  2104.360107  2121.899902   \n",
       "247  2021-02-17  2100.000000  2133.659912  2098.919922  2128.310059   \n",
       "248  2021-02-18  2110.389893  2132.735107  2103.709961  2117.199951   \n",
       "249  2021-02-19  2119.270020  2130.530029  2097.409912  2101.139893   \n",
       "250  2021-02-22  2067.000000  2091.419922  2062.139893  2064.879883   \n",
       "251  2021-02-23  2025.010010  2082.010010  2002.020020  2070.860107   \n",
       "252  2021-02-24  2041.829956  2100.780029  2038.130005  2095.169922   \n",
       "\n",
       "       Adj Close   Volume  \n",
       "246  2121.899902  1132900  \n",
       "247  2128.310059  1070100  \n",
       "248  2117.199951  1121600  \n",
       "249  2101.139893  1457400  \n",
       "250  2064.879883  1366200  \n",
       "251  2070.860107  1666500  \n",
       "252  2095.169922  1247400  "
      ]
     },
     "execution_count": 33,
     "metadata": {},
     "output_type": "execute_result"
    }
   ],
   "source": [
    "google_stock.tail(7)"
   ]
  },
  {
   "cell_type": "code",
   "execution_count": null,
   "metadata": {},
   "outputs": [],
   "source": []
  }
 ],
 "metadata": {
  "kernelspec": {
   "display_name": "Python 3",
   "language": "python",
   "name": "python3"
  },
  "language_info": {
   "codemirror_mode": {
    "name": "ipython",
    "version": 3
   },
   "file_extension": ".py",
   "mimetype": "text/x-python",
   "name": "python",
   "nbconvert_exporter": "python",
   "pygments_lexer": "ipython3",
   "version": "3.8.3"
  }
 },
 "nbformat": 4,
 "nbformat_minor": 4
}
